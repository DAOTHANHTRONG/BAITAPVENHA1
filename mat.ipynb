{
  "nbformat": 4,
  "nbformat_minor": 0,
  "metadata": {
    "colab": {
      "provenance": [],
      "include_colab_link": true
    },
    "kernelspec": {
      "name": "python3",
      "display_name": "Python 3"
    },
    "language_info": {
      "name": "python"
    },
    "accelerator": "GPU",
    "gpuClass": "standard"
  },
  "cells": [
    {
      "cell_type": "markdown",
      "metadata": {
        "id": "view-in-github",
        "colab_type": "text"
      },
      "source": [
        "<a href=\"https://colab.research.google.com/github/DAOTHANHTRONG/BAITAPVENHA1/blob/main/mat.ipynb\" target=\"_parent\"><img src=\"https://colab.research.google.com/assets/colab-badge.svg\" alt=\"Open In Colab\"/></a>"
      ]
    },
    {
      "cell_type": "code",
      "execution_count": null,
      "metadata": {
        "colab": {
          "base_uri": "https://localhost:8080/"
        },
        "id": "jXj4_RiVIt0B",
        "outputId": "73e2d924-a865-4ad9-d434-1562401bcf00"
      },
      "outputs": [
        {
          "output_type": "stream",
          "name": "stdout",
          "text": [
            "(240, 30, 40, 3) (240,)\n"
          ]
        }
      ],
      "source": [
        "from os import listdir\n",
        "from numpy import asarray, save\n",
        "from keras.utils import load_img, img_to_array\n",
        "\n",
        "folder = 'drive/MyDrive/GuongMat/'\n",
        "\n",
        "photos, labels = list(), list()\n",
        "for file in listdir(folder):\n",
        "  output = 0.0\n",
        "  if file.startswith('Binh '):\n",
        "    output = 1.0\n",
        "  if file.startswith('Dat '):\n",
        "    output = 2.0\n",
        "  if file.startswith('Dung '):\n",
        "    output = 3.0\n",
        "  if file.startswith('Ha '):\n",
        "    output = 4.0\n",
        "  if file.startswith('Hau '):\n",
        "    output = 5.0\n",
        "\n",
        "  photo = load_img(folder + file, target_size =(30,40))\n",
        "  photo = img_to_array(photo)\n",
        "  photos.append(photo)\n",
        "  labels.append(output)\n",
        "# Train\n",
        "photos_train = asarray(photos)\n",
        "labels_train = asarray(labels)\n",
        "print(photos_train.shape,labels_train.shape)"
      ]
    },
    {
      "cell_type": "code",
      "source": [
        "folder = 'drive/MyDrive/GuongMatTest/'\n",
        "\n",
        "photos, labels = list(), list()\n",
        "for file in listdir(folder):\n",
        "  output = 0.0\n",
        "  if file.startswith('Binh '):\n",
        "    output = 1.0\n",
        "  if file.startswith('Dat '):\n",
        "    output = 2.0\n",
        "  if file.startswith('Dung '):\n",
        "    output = 3.0\n",
        "  if file.startswith('Ha '):\n",
        "    output = 4.0\n",
        "  if file.startswith('Hau '):\n",
        "    output = 5.0\n",
        "\n",
        "  photo = load_img(folder + file, target_size =(30,40))\n",
        "  photo = img_to_array(photo)\n",
        "  photos.append(photo)\n",
        "  labels.append(output)\n",
        "\n",
        "# Test\n",
        "photos_test = asarray(photos)\n",
        "labels_test = asarray(labels)\n",
        "print(photos_test.shape,labels_test.shape)"
      ],
      "metadata": {
        "colab": {
          "base_uri": "https://localhost:8080/"
        },
        "id": "k6SC1livK1x4",
        "outputId": "db1d3815-0533-4b56-c676-e9e66a8e977f"
      },
      "execution_count": null,
      "outputs": [
        {
          "output_type": "stream",
          "name": "stdout",
          "text": [
            "(60, 30, 40, 3) (60,)\n"
          ]
        }
      ]
    },
    {
      "cell_type": "code",
      "source": [
        "class_Image =    {1: 'Binh',2: 'Dat',3: 'Dung',4: 'Ha',5: 'Hau'}"
      ],
      "metadata": {
        "id": "q4LPJl-8LAfQ"
      },
      "execution_count": null,
      "outputs": []
    },
    {
      "cell_type": "code",
      "source": [
        "#Reshape the sets and rescale within the byte range\n",
        "photos_train = photos_train.reshape(240,30,40,3)\n",
        "photos_train = photos_train.astype('float32')/255\n",
        "photos_test = photos_test.reshape(60,30,40, 3)\n",
        "photos_test = photos_test.astype('float32')/255"
      ],
      "metadata": {
        "id": "fSV_jU8VMTWe"
      },
      "execution_count": null,
      "outputs": []
    },
    {
      "cell_type": "code",
      "source": [
        "# One-hot encode the target classes\n",
        "from keras.utils import to_categorical \n",
        "labels_train = to_categorical(labels_train)\n",
        "labels_test = to_categorical(labels_test)"
      ],
      "metadata": {
        "id": "kiPQY2nvMYTR"
      },
      "execution_count": null,
      "outputs": []
    },
    {
      "cell_type": "code",
      "source": [
        "(photos_train.shape, labels_train.shape),(photos_test.shape, labels_test.shape)"
      ],
      "metadata": {
        "colab": {
          "base_uri": "https://localhost:8080/"
        },
        "id": "aMOe0CasMZQp",
        "outputId": "2a742f02-e003-4b01-8be0-26d9f34f175d"
      },
      "execution_count": null,
      "outputs": [
        {
          "output_type": "execute_result",
          "data": {
            "text/plain": [
              "(((240, 30, 40, 3), (240, 6)), ((60, 30, 40, 3), (60, 6)))"
            ]
          },
          "metadata": {},
          "execution_count": 8
        }
      ]
    },
    {
      "cell_type": "code",
      "source": [
        "from keras.layers import Dense,Dropout,Flatten,Conv2D,MaxPooling2D,Normalization\n",
        "from keras.models import Sequential,Model\n",
        "from keras import Input\n",
        "from keras.layers import LeakyReLU\n",
        "from keras.optimizers import Adam\n",
        "\n",
        "batch_size = 128\n",
        "epochs = 20\n",
        "classes = 6\n",
        "\n",
        "model = Sequential()\n",
        "# CNN\n",
        "model.add(Conv2D(32,kernel_size=(3,3),activation='linear',input_shape=(30,40,3),padding='same'))\n",
        "model.add(LeakyReLU(alpha=0.1))\n",
        "model.add(MaxPooling2D((2,2),padding = 'same'))\n",
        "\n",
        "model.add(Conv2D(64,(3,3),activation = 'relu',padding = 'same'))\n",
        "model.add(LeakyReLU(alpha = 0.1))\n",
        "model.add(MaxPooling2D((2,2), padding='same'))\n",
        "\n",
        "model.add(Conv2D(128,(3,3),activation = 'relu', padding = 'same'))\n",
        "model.add(LeakyReLU(alpha = 0.1))\n",
        "model.add(MaxPooling2D((2,2),padding= 'same'))\n",
        "\n",
        "# ANN\n",
        "model.add(Flatten())\n",
        "model.add(Dense(256,activation = 'relu'))\n",
        "model.add(LeakyReLU(alpha = 0.1))\n",
        "model.add(Dense(classes ,activation = 'softmax'))\n",
        "\n",
        "# Compile\n",
        "model.compile(optimizer = Adam(), loss = 'categorical_crossentropy', metrics = ['accuracy'])\n",
        "model.summary()\n",
        "\n",
        "train = model.fit(photos_train, labels_train, batch_size = batch_size ,epochs = epochs, verbose = 1)\n",
        "test_loss, test_acc = model.evaluate(photos_test, labels_test)\n",
        "print('Do chinh xac cua ham', test_acc)\n",
        "print('Ham mat mat', test_loss)"
      ],
      "metadata": {
        "colab": {
          "base_uri": "https://localhost:8080/"
        },
        "id": "t43Q1sdpMrCK",
        "outputId": "1b2aa60c-9ed0-4e0f-e1a9-d13f14f10525"
      },
      "execution_count": null,
      "outputs": [
        {
          "output_type": "stream",
          "name": "stdout",
          "text": [
            "Model: \"sequential\"\n",
            "_________________________________________________________________\n",
            " Layer (type)                Output Shape              Param #   \n",
            "=================================================================\n",
            " conv2d (Conv2D)             (None, 30, 40, 32)        896       \n",
            "                                                                 \n",
            " leaky_re_lu (LeakyReLU)     (None, 30, 40, 32)        0         \n",
            "                                                                 \n",
            " max_pooling2d (MaxPooling2D  (None, 15, 20, 32)       0         \n",
            " )                                                               \n",
            "                                                                 \n",
            " conv2d_1 (Conv2D)           (None, 15, 20, 64)        18496     \n",
            "                                                                 \n",
            " leaky_re_lu_1 (LeakyReLU)   (None, 15, 20, 64)        0         \n",
            "                                                                 \n",
            " max_pooling2d_1 (MaxPooling  (None, 8, 10, 64)        0         \n",
            " 2D)                                                             \n",
            "                                                                 \n",
            " conv2d_2 (Conv2D)           (None, 8, 10, 128)        73856     \n",
            "                                                                 \n",
            " leaky_re_lu_2 (LeakyReLU)   (None, 8, 10, 128)        0         \n",
            "                                                                 \n",
            " max_pooling2d_2 (MaxPooling  (None, 4, 5, 128)        0         \n",
            " 2D)                                                             \n",
            "                                                                 \n",
            " flatten (Flatten)           (None, 2560)              0         \n",
            "                                                                 \n",
            " dense (Dense)               (None, 256)               655616    \n",
            "                                                                 \n",
            " leaky_re_lu_3 (LeakyReLU)   (None, 256)               0         \n",
            "                                                                 \n",
            " dense_1 (Dense)             (None, 6)                 1542      \n",
            "                                                                 \n",
            "=================================================================\n",
            "Total params: 750,406\n",
            "Trainable params: 750,406\n",
            "Non-trainable params: 0\n",
            "_________________________________________________________________\n",
            "Epoch 1/20\n",
            "2/2 [==============================] - 10s 236ms/step - loss: 1.7039 - accuracy: 0.2667\n",
            "Epoch 2/20\n",
            "2/2 [==============================] - 0s 14ms/step - loss: 1.3206 - accuracy: 0.5583\n",
            "Epoch 3/20\n",
            "2/2 [==============================] - 0s 13ms/step - loss: 0.9325 - accuracy: 0.8333\n",
            "Epoch 4/20\n",
            "2/2 [==============================] - 0s 13ms/step - loss: 0.5517 - accuracy: 0.8958\n",
            "Epoch 5/20\n",
            "2/2 [==============================] - 0s 12ms/step - loss: 0.3182 - accuracy: 0.9125\n",
            "Epoch 6/20\n",
            "2/2 [==============================] - 0s 13ms/step - loss: 0.1865 - accuracy: 0.9583\n",
            "Epoch 7/20\n",
            "2/2 [==============================] - 0s 12ms/step - loss: 0.1321 - accuracy: 0.9417\n",
            "Epoch 8/20\n",
            "2/2 [==============================] - 0s 13ms/step - loss: 0.0697 - accuracy: 0.9875\n",
            "Epoch 9/20\n",
            "2/2 [==============================] - 0s 13ms/step - loss: 0.0661 - accuracy: 0.9833\n",
            "Epoch 10/20\n",
            "2/2 [==============================] - 0s 13ms/step - loss: 0.0602 - accuracy: 0.9750\n",
            "Epoch 11/20\n",
            "2/2 [==============================] - 0s 12ms/step - loss: 0.0829 - accuracy: 0.9708\n",
            "Epoch 12/20\n",
            "2/2 [==============================] - 0s 13ms/step - loss: 0.0164 - accuracy: 0.9958\n",
            "Epoch 13/20\n",
            "2/2 [==============================] - 0s 12ms/step - loss: 0.1183 - accuracy: 0.9583\n",
            "Epoch 14/20\n",
            "2/2 [==============================] - 0s 12ms/step - loss: 0.0389 - accuracy: 0.9917\n",
            "Epoch 15/20\n",
            "2/2 [==============================] - 0s 13ms/step - loss: 0.0614 - accuracy: 0.9875\n",
            "Epoch 16/20\n",
            "2/2 [==============================] - 0s 12ms/step - loss: 0.0260 - accuracy: 0.9917\n",
            "Epoch 17/20\n",
            "2/2 [==============================] - 0s 12ms/step - loss: 0.0080 - accuracy: 1.0000\n",
            "Epoch 18/20\n",
            "2/2 [==============================] - 0s 12ms/step - loss: 0.0029 - accuracy: 1.0000\n",
            "Epoch 19/20\n",
            "2/2 [==============================] - 0s 12ms/step - loss: 0.0138 - accuracy: 0.9958\n",
            "Epoch 20/20\n",
            "2/2 [==============================] - 0s 12ms/step - loss: 0.0105 - accuracy: 0.9958\n",
            "2/2 [==============================] - 0s 79ms/step - loss: 0.0032 - accuracy: 1.0000\n",
            "Do chinh xac cua ham 1.0\n",
            "Ham mat mat 0.00315011665225029\n"
          ]
        }
      ]
    },
    {
      "cell_type": "code",
      "source": [
        "model.save('drive/MyDrive/modelGuongmat.h5')"
      ],
      "metadata": {
        "id": "ciAVfXeTM9Mk"
      },
      "execution_count": null,
      "outputs": []
    },
    {
      "cell_type": "code",
      "source": [
        "#test\n",
        "import matplotlib.pyplot as plt\n",
        "import numpy as np \n",
        "filePath = '/content/drive/MyDrive/Binh.jpg'\n",
        "testImage = load_img(filePath, color_mode = 'rgb', target_size=(30,40))\n",
        "arrayImage = img_to_array(testImage).reshape(1,30,40,3)/255\n",
        "pred = np.argmax(model.predict(arrayImage))\n",
        "print(\"Predicted: \", class_Image[pred])\n",
        "plt.imshow(testImage)"
      ],
      "metadata": {
        "colab": {
          "base_uri": "https://localhost:8080/",
          "height": 482
        },
        "id": "JfU5VevRNG_r",
        "outputId": "e1d34c77-4cb1-4b0c-9dee-7ed64fafc382"
      },
      "execution_count": null,
      "outputs": [
        {
          "output_type": "stream",
          "name": "stdout",
          "text": [
            "1/1 [==============================] - 0s 218ms/step\n",
            "Predicted:  Binh\n"
          ]
        },
        {
          "output_type": "execute_result",
          "data": {
            "text/plain": [
              "<matplotlib.image.AxesImage at 0x7f1a09575fd0>"
            ]
          },
          "metadata": {},
          "execution_count": 12
        },
        {
          "output_type": "display_data",
          "data": {
            "text/plain": [
              "<Figure size 640x480 with 1 Axes>"
            ],
            "image/png": "[encoded data removed]"
          },
          "metadata": {}
        }
      ]
    },
    {
      "cell_type": "code",
      "source": [
        "import numpy as np \n",
        "filePath = '/content/drive/MyDrive/Hau.jpg'\n",
        "testImage = load_img(filePath, color_mode = 'rgb', target_size=(30,40))\n",
        "arrayImage = img_to_array(testImage).reshape(1,30,40,3)/255\n",
        "pred = np.argmax(model.predict(arrayImage))\n",
        "print(\"Predicted: \", class_Image[pred])\n",
        "plt.imshow(testImage)"
      ],
      "metadata": {
        "colab": {
          "base_uri": "https://localhost:8080/",
          "height": 482
        },
        "id": "aBM8hsjGQ40-",
        "outputId": "cfb80a74-61b9-475b-f944-79ef1ad5d2ae"
      },
      "execution_count": null,
      "outputs": [
        {
          "output_type": "stream",
          "name": "stdout",
          "text": [
            "1/1 [==============================] - 0s 18ms/step\n",
            "Predicted:  Hau\n"
          ]
        },
        {
          "output_type": "execute_result",
          "data": {
            "text/plain": [
              "<matplotlib.image.AxesImage at 0x7f1a09431790>"
            ]
          },
          "metadata": {},
          "execution_count": 13
        },
        {
          "output_type": "display_data",
          "data": {
            "text/plain": [
              "<Figure size 640x480 with 1 Axes>"
            ],
            "image/png": "[encoded data removed]"
          },
          "metadata": {}
        }
      ]
    },
    {
      "cell_type": "code",
      "source": [
        "import numpy as np \n",
        "filePath = '/content/drive/MyDrive/Dung.jpg'\n",
        "testImage = load_img(filePath, color_mode = 'rgb', target_size=(30,40))\n",
        "arrayImage = img_to_array(testImage).reshape(1,30,40,3)/255\n",
        "pred = np.argmax(model.predict(arrayImage))\n",
        "print(\"Predicted: \", class_Image[pred])\n",
        "plt.imshow(testImage)"
      ],
      "metadata": {
        "colab": {
          "base_uri": "https://localhost:8080/",
          "height": 482
        },
        "id": "RSoo6iCVQ9N6",
        "outputId": "ca01751b-bc9d-4f9f-b3f8-53df229d079b"
      },
      "execution_count": null,
      "outputs": [
        {
          "output_type": "stream",
          "name": "stdout",
          "text": [
            "1/1 [==============================] - 0s 21ms/step\n",
            "Predicted:  Dung\n"
          ]
        },
        {
          "output_type": "execute_result",
          "data": {
            "text/plain": [
              "<matplotlib.image.AxesImage at 0x7f1a09423e20>"
            ]
          },
          "metadata": {},
          "execution_count": 14
        },
        {
          "output_type": "display_data",
          "data": {
            "text/plain": [
              "<Figure size 640x480 with 1 Axes>"
            ],
            "image/png": "[encoded data removed]"
          },
          "metadata": {}
        }
      ]
    }
  ]
}